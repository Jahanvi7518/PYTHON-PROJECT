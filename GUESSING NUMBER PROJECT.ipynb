{
 "cells": [
  {
   "cell_type": "code",
   "execution_count": 1,
   "id": "78b580f4",
   "metadata": {},
   "outputs": [],
   "source": [
    "import random"
   ]
  },
  {
   "cell_type": "code",
   "execution_count": 2,
   "id": "31448946",
   "metadata": {},
   "outputs": [],
   "source": [
    "import math"
   ]
  },
  {
   "cell_type": "code",
   "execution_count": 3,
   "id": "268843ab",
   "metadata": {},
   "outputs": [
    {
     "name": "stdout",
     "output_type": "stream",
     "text": [
      "enter the lower bond:---1\n"
     ]
    }
   ],
   "source": [
    "lower=int(input(\"enter the lower bond:---\"))"
   ]
  },
  {
   "cell_type": "code",
   "execution_count": 4,
   "id": "c410e28a",
   "metadata": {},
   "outputs": [
    {
     "name": "stdout",
     "output_type": "stream",
     "text": [
      "Enter the upper Bond:---100\n"
     ]
    }
   ],
   "source": [
    "upper=int(input(\"Enter the upper Bond:---\"))"
   ]
  },
  {
   "cell_type": "code",
   "execution_count": 18,
   "id": "68f86963",
   "metadata": {},
   "outputs": [
    {
     "name": "stdout",
     "output_type": "stream",
     "text": [
      "\n",
      "\tYou have only 7 chances to guess a intege!/n\n",
      "enter the number:---50\n",
      "You guessed too small!\n",
      "enter the number:---58\n",
      "You guessed too small!\n",
      "enter the number:---89\n",
      "You Guessed too high!\n",
      "enter the number:---70\n",
      "You guessed too small!\n",
      "enter the number:---85\n",
      "You guessed too small!\n",
      "enter the number:---87\n",
      "You guessed too small!\n",
      "enter the number:---88\n",
      "Congratulations you did it in  7  try\n",
      "\n",
      "The number is 88\n",
      "\tBetter Luck Next time!\n"
     ]
    }
   ],
   "source": [
    "#generting the random number between lower and upper value\n",
    "x=random.randint(lower,upper)\n",
    "print(\"\\n\\tYou have only\",round(math.log(upper-lower+1,2)),\"chances to guess a intege!/n\")\n",
    "count=0\n",
    "while count<(math.log(upper-lower+1,2)):\n",
    "    count=count+1\n",
    "    guess=int(input(\"enter the number:---\"))\n",
    "    # Condition testing\n",
    "    if x == guess:\n",
    "        print(\"Congratulations you did it in \",\n",
    "              count, \" try\")\n",
    "        # Once guessed, loop will break\n",
    "        break\n",
    "    elif x > guess:\n",
    "        print(\"You guessed too small!\")\n",
    "    elif x < guess:\n",
    "        print(\"You Guessed too high!\")\n",
    " \n",
    "# If Guessing is more than required guesses,\n",
    "# shows this output.\n",
    "if count >= math.log(upper - lower + 1, 2):\n",
    "    print(\"\\nThe number is %d\" % x)\n",
    "    print(\"\\tBetter Luck Next time!\")"
   ]
  }
 ],
 "metadata": {
  "kernelspec": {
   "display_name": "Python 3 (ipykernel)",
   "language": "python",
   "name": "python3"
  },
  "language_info": {
   "codemirror_mode": {
    "name": "ipython",
    "version": 3
   },
   "file_extension": ".py",
   "mimetype": "text/x-python",
   "name": "python",
   "nbconvert_exporter": "python",
   "pygments_lexer": "ipython3",
   "version": "3.10.9"
  }
 },
 "nbformat": 4,
 "nbformat_minor": 5
}
