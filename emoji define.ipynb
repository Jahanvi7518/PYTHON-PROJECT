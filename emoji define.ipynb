{
 "cells": [
  {
   "cell_type": "code",
   "execution_count": 2,
   "id": "1edbeabf",
   "metadata": {},
   "outputs": [],
   "source": [
    "import demoji"
   ]
  },
  {
   "cell_type": "code",
   "execution_count": 3,
   "id": "497a70e4",
   "metadata": {},
   "outputs": [
    {
     "data": {
      "text/plain": [
       "{'🙈': 'see-no-evil monkey',\n",
       " '🙊': 'speak-no-evil monkey',\n",
       " '🙉': 'hear-no-evil monkey'}"
      ]
     },
     "execution_count": 3,
     "metadata": {},
     "output_type": "execute_result"
    }
   ],
   "source": [
    "Gandhi =\"\"\"Mahatama Gandhi Said 🙈🙉🙊\"\"\"\n",
    "demoji.findall(Gandhi)"
   ]
  },
  {
   "cell_type": "code",
   "execution_count": 5,
   "id": "d2033fb2",
   "metadata": {},
   "outputs": [
    {
     "data": {
      "text/plain": [
       "{'🙈': 'see-no-evil monkey'}"
      ]
     },
     "execution_count": 5,
     "metadata": {},
     "output_type": "execute_result"
    }
   ],
   "source": [
    "gandaji=\"🙈\"\n",
    "demoji.findall(gandaji)"
   ]
  },
  {
   "cell_type": "code",
   "execution_count": 6,
   "id": "5ab4ddf0",
   "metadata": {},
   "outputs": [
    {
     "data": {
      "text/plain": [
       "{'❤️': 'red heart'}"
      ]
     },
     "execution_count": 6,
     "metadata": {},
     "output_type": "execute_result"
    }
   ],
   "source": [
    "jahanvi=\"\"\"jahanvi says ❤️\"\"\"\n",
    "demoji.findall(jahanvi)\n"
   ]
  },
  {
   "cell_type": "code",
   "execution_count": null,
   "id": "d0314692",
   "metadata": {},
   "outputs": [],
   "source": []
  }
 ],
 "metadata": {
  "kernelspec": {
   "display_name": "Python 3 (ipykernel)",
   "language": "python",
   "name": "python3"
  },
  "language_info": {
   "codemirror_mode": {
    "name": "ipython",
    "version": 3
   },
   "file_extension": ".py",
   "mimetype": "text/x-python",
   "name": "python",
   "nbconvert_exporter": "python",
   "pygments_lexer": "ipython3",
   "version": "3.10.9"
  }
 },
 "nbformat": 4,
 "nbformat_minor": 5
}
